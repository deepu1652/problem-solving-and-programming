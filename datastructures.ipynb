{
 "cells": [
  {
   "cell_type": "markdown",
   "metadata": {},
   "source": [
    "### binary search algo"
   ]
  },
  {
   "cell_type": "code",
   "execution_count": 25,
   "metadata": {},
   "outputs": [
    {
     "name": "stdout",
     "output_type": "stream",
     "text": [
      "Item is found\n"
     ]
    }
   ],
   "source": [
    "def binarysearch(a,lIndex,rIndex,tarItem):\n",
    "    while lIndex <= rIndex:\n",
    "        mIndex=lIndex+(rIndex-lIndex)//2;\n",
    "        if a[mIndex]==tarItem:\n",
    "            return mIndex\n",
    "        if a[mIndex]>tarItem:\n",
    "            rIndex=mIndex-1\n",
    "        else:\n",
    "            lIndex=mIndex+1\n",
    "    return-1\n",
    "list1=[1,4,9,15,25,45,57,88,98]\n",
    "res=binarysearch(list1,0,8,88)\n",
    "if res!=-1:\n",
    "        print(\"Item is found\");\n",
    "else:\n",
    "        print(\"Item is not found\");"
   ]
  },
  {
   "cell_type": "markdown",
   "metadata": {},
   "source": [
    "### bubble sort"
   ]
  },
  {
   "cell_type": "code",
   "execution_count": 27,
   "metadata": {},
   "outputs": [
    {
     "name": "stdout",
     "output_type": "stream",
     "text": [
      "136181925"
     ]
    }
   ],
   "source": [
    "def bubblesort(a):\n",
    "    for i in range(len(a)-1):\n",
    "        for j in range(len(a)-1):\n",
    "            if a[j] > a[j+1]:\n",
    "                a[j],a[j+1]=a[j+1],a[j]\n",
    "    for i in range(len(a)):\n",
    "        print(a[i],end='')\n",
    "lst1=[19,1,25,6,18,3]\n",
    "bubblesort(lst1)\n",
    "            "
   ]
  },
  {
   "cell_type": "code",
   "execution_count": 28,
   "metadata": {},
   "outputs": [
    {
     "name": "stdout",
     "output_type": "stream",
     "text": [
      "application\n",
      "application\n",
      "application test\n",
      "        working\n",
      "        completed\n",
      "        list\n",
      "        strings\n",
      "        python\n"
     ]
    }
   ],
   "source": [
    "# creating a string\n",
    "str =\"application\"\n",
    "print(str)\n",
    "str1='application'\n",
    "print(str1)\n",
    "str2=\"\"\"application test\n",
    "        working\n",
    "        completed\n",
    "        list\n",
    "        strings\n",
    "        python\"\"\"\n",
    "print(str2)"
   ]
  },
  {
   "cell_type": "code",
   "execution_count": 30,
   "metadata": {},
   "outputs": [
    {
     "name": "stdout",
     "output_type": "stream",
     "text": [
      "application\n",
      "str[0]= a\n",
      "str[1]= p\n",
      "str[-1]= n\n",
      "str[-3]= i\n",
      "str[1:5]= ppli\n",
      "str[:5]= appli\n",
      "str[5:-2]= cati\n",
      "str[::-1]= noitacilppa\n"
     ]
    }
   ],
   "source": [
    "str=\"application\"\n",
    "print(str)\n",
    "print(\"str[0]=\",str[0])\n",
    "print(\"str[1]=\",str[1])\n",
    "print(\"str[-1]=\",str[-1])\n",
    "print(\"str[-3]=\",str[-3])\n",
    "print(\"str[1:5]=\",str[1:5])\n",
    "print(\"str[:5]=\",str[:5])\n",
    "print(\"str[5:-2]=\",str[5:-2])\n",
    "print(\"str[::-1]=\",str[::-1])"
   ]
  },
  {
   "cell_type": "markdown",
   "metadata": {},
   "source": [
    "### count the digit of the number"
   ]
  },
  {
   "cell_type": "code",
   "execution_count": null,
   "metadata": {},
   "outputs": [],
   "source": [
    "#count of digit of a number--string len function\n",
    "def countdigits(n):\n",
    "    return len(())\n"
   ]
  },
  {
   "cell_type": "code",
   "execution_count": 31,
   "metadata": {},
   "outputs": [
    {
     "data": {
      "text/plain": [
       "11"
      ]
     },
     "execution_count": 31,
     "metadata": {},
     "output_type": "execute_result"
    }
   ],
   "source": [
    "def countofchars(str):\n",
    "    return len(str)\n",
    "countofchars(\"application\")"
   ]
  },
  {
   "cell_type": "code",
   "execution_count": 32,
   "metadata": {},
   "outputs": [
    {
     "data": {
      "text/plain": [
       "5"
      ]
     },
     "execution_count": 32,
     "metadata": {},
     "output_type": "execute_result"
    }
   ],
   "source": [
    "def countdigits(n):\n",
    "    return len(n)\n",
    "countdigits(\"23458\")"
   ]
  },
  {
   "cell_type": "markdown",
   "metadata": {},
   "source": [
    "# let's some string--convert the string into upper case"
   ]
  },
  {
   "cell_type": "code",
   "execution_count": 43,
   "metadata": {},
   "outputs": [
    {
     "name": "stdout",
     "output_type": "stream",
     "text": [
      "0\n",
      "2\n"
     ]
    }
   ],
   "source": [
    "def countuppercase(str):\n",
    "    cnt=0\n",
    "    lst=list(str)\n",
    "    for x in range(len(lst)):\n",
    "        if ord(lst[x]) >= 65 and ord(lst[x]) <= 90 :\n",
    "               cnt=cnt+1\n",
    "    return cnt\n",
    "\n",
    "print(countuppercase(\"application\"))\n",
    "print(countuppercase(\"TesT\"))"
   ]
  },
  {
   "cell_type": "code",
   "execution_count": null,
   "metadata": {},
   "outputs": [],
   "source": [
    "#string-convert-list--len of the list\n",
    "def count(str)\n"
   ]
  },
  {
   "cell_type": "code",
   "execution_count": 48,
   "metadata": {},
   "outputs": [
    {
     "ename": "SyntaxError",
     "evalue": "invalid syntax (<ipython-input-48-6d769b7f1e3b>, line 4)",
     "output_type": "error",
     "traceback": [
      "\u001b[1;36m  File \u001b[1;32m\"<ipython-input-48-6d769b7f1e3b>\"\u001b[1;36m, line \u001b[1;32m4\u001b[0m\n\u001b[1;33m    if ord(lst[x])>=48 and ord(lst[x])<=57\u001b[0m\n\u001b[1;37m                                          ^\u001b[0m\n\u001b[1;31mSyntaxError\u001b[0m\u001b[1;31m:\u001b[0m invalid syntax\n"
     ]
    }
   ],
   "source": [
    "def printdigits(str):\n",
    "    lst=list(str)\n",
    "    for x in range(len(lst)):\n",
    "        if ord(lst[x])>=48 and ord(lst[x])<=57\n",
    "           print(lst[x],end=\"\")\n",
    "        \n",
    "    \n",
    "print(printdigits(\"application1889\"))#1889"
   ]
  },
  {
   "cell_type": "code",
   "execution_count": 53,
   "metadata": {},
   "outputs": [
    {
     "data": {
      "text/plain": [
       "26"
      ]
     },
     "execution_count": 53,
     "metadata": {},
     "output_type": "execute_result"
    }
   ],
   "source": [
    "def sumofdigits(str):\n",
    "    sum=0\n",
    "    lst=list(str)\n",
    "    for x in range(len(lst)):\n",
    "        if ord(lst[x])>=48 and ord(lst[x])<=57:\n",
    "            sum=sum+ord(lst[x])-48;\n",
    "    return sum\n",
    "sumofdigits(\"application1889\")"
   ]
  },
  {
   "cell_type": "code",
   "execution_count": null,
   "metadata": {},
   "outputs": [],
   "source": []
  },
  {
   "cell_type": "code",
   "execution_count": null,
   "metadata": {},
   "outputs": [],
   "source": []
  }
 ],
 "metadata": {
  "kernelspec": {
   "display_name": "Python 3",
   "language": "python",
   "name": "python3"
  },
  "language_info": {
   "codemirror_mode": {
    "name": "ipython",
    "version": 3
   },
   "file_extension": ".py",
   "mimetype": "text/x-python",
   "name": "python",
   "nbconvert_exporter": "python",
   "pygments_lexer": "ipython3",
   "version": "3.7.3"
  }
 },
 "nbformat": 4,
 "nbformat_minor": 2
}
